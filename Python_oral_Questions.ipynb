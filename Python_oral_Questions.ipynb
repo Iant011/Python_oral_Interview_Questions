{
 "cells": [
  {
   "cell_type": "markdown",
   "id": "48a1ddbd",
   "metadata": {},
   "source": [
    "# Python Interview Questions\n"
   ]
  },
  {
   "cell_type": "code",
   "execution_count": 2,
   "id": "c6badba4",
   "metadata": {},
   "outputs": [],
   "source": [
    "Questions = '''\n",
    "1.What is Python, and what are its key features?\n",
    "2.What are the fundamental data types in Python?\n",
    "3.Explain the difference between a list and a tuple in Python.\n",
    "4.How do you comment a single line and multiple lines in Python?\n",
    "5.Explain the difference between local, globalvariables in Python.\n",
    "6.What is the purpose of the __init__ method in Python classes?\n",
    "7.What is a generator in Python, and how is it different from a function?\n",
    "8.What is a lambda function in Python, and when would you use it?\n",
    "9.Explain the concept of list comprehension in Python.\n",
    "10.Explain the concept of exception handling in Python, and provide examples of try, except\n",
    "'''"
   ]
  },
  {
   "cell_type": "code",
   "execution_count": null,
   "id": "9be46312",
   "metadata": {},
   "outputs": [],
   "source": []
  }
 ],
 "metadata": {
  "kernelspec": {
   "display_name": "Python 3 (ipykernel)",
   "language": "python",
   "name": "python3"
  },
  "language_info": {
   "codemirror_mode": {
    "name": "ipython",
    "version": 3
   },
   "file_extension": ".py",
   "mimetype": "text/x-python",
   "name": "python",
   "nbconvert_exporter": "python",
   "pygments_lexer": "ipython3",
   "version": "3.10.9"
  }
 },
 "nbformat": 4,
 "nbformat_minor": 5
}
